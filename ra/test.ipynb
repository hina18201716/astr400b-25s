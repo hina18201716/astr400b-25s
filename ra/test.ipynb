{
 "cells": [
  {
   "cell_type": "code",
   "execution_count": 1,
   "id": "9dd71a2a-af31-430e-90d2-de5632541641",
   "metadata": {},
   "outputs": [
    {
     "ename": "ModuleNotFoundError",
     "evalue": "No module named 'Remnant'",
     "output_type": "error",
     "traceback": [
      "\u001b[0;31m---------------------------------------------------------------------------\u001b[0m",
      "\u001b[0;31mModuleNotFoundError\u001b[0m                       Traceback (most recent call last)",
      "Cell \u001b[0;32mIn[1], line 1\u001b[0m\n\u001b[0;32m----> 1\u001b[0m \u001b[38;5;28;01mimport\u001b[39;00m \u001b[38;5;21;01mRemnant\u001b[39;00m\n",
      "\u001b[0;31mModuleNotFoundError\u001b[0m: No module named 'Remnant'"
     ]
    }
   ],
   "source": [
    "import Remnant \n"
   ]
  },
  {
   "cell_type": "code",
   "execution_count": 3,
   "id": "d24e351a-15ef-451b-b36d-4e835717e155",
   "metadata": {},
   "outputs": [
    {
     "ename": "NameError",
     "evalue": "name 'Remnant' is not defined",
     "output_type": "error",
     "traceback": [
      "\u001b[0;31m---------------------------------------------------------------------------\u001b[0m",
      "\u001b[0;31mNameError\u001b[0m                                 Traceback (most recent call last)",
      "Cell \u001b[0;32mIn[3], line 2\u001b[0m\n\u001b[1;32m      1\u001b[0m snapnumber \u001b[38;5;241m=\u001b[39m \u001b[38;5;241m560\u001b[39m\n\u001b[0;32m----> 2\u001b[0m MW_M31 \u001b[38;5;241m=\u001b[39m \u001b[43mRemnant\u001b[49m(\u001b[38;5;124m\"\u001b[39m\u001b[38;5;124mMW\u001b[39m\u001b[38;5;124m\"\u001b[39m,\u001b[38;5;124m\"\u001b[39m\u001b[38;5;124mM31\u001b[39m\u001b[38;5;124m\"\u001b[39m, snapnumber)\n\u001b[1;32m      4\u001b[0m MW_M31\u001b[38;5;241m.\u001b[39mRotateAxis()\n\u001b[1;32m      5\u001b[0m MW_M31\u001b[38;5;241m.\u001b[39mEdgeOnVIew()\n",
      "\u001b[0;31mNameError\u001b[0m: name 'Remnant' is not defined"
     ]
    }
   ],
   "source": [
    "snapnumber = 560\n",
    "MW_M31 = Remnant(\"MW\",\"M31\", snapnumber)\n",
    "\n",
    "MW_M31.RotateAxis()\n",
    "MW_M31.EdgeOnVIew()\n",
    "\n",
    "rr, Vcirc = MW_M31.V_circ()\n",
    "r2, v2, rho, vphi = MW_M31.V_Phi()\n"
   ]
  },
  {
   "cell_type": "code",
   "execution_count": null,
   "id": "24a98b4c-1d01-4321-bf01-032ad5a91aca",
   "metadata": {},
   "outputs": [],
   "source": [
    "\n",
    "fig = plt.figure(figsize=(12,10))\n",
    "ax = plt.subplot(111)\n",
    "\n",
    "plt.hist2d(rho, np.abs(vphi), bins=150, norm=LogNorm())\n",
    "# plt.scatter(rho, np.abs(vphi))\n",
    "plt.colorbar()\n",
    "\n",
    "# Add the vcirc\n",
    "plt.plot(rr, Vcirc, color=\"red\", label = \"V_circ\")\n",
    "#plt.plot(-r2, -v2, color=\"blue\")\n",
    "\n",
    "# Add the v_phi\n",
    "plt.plot(r2, v2, color=\"blue\", label = \"V_phi\")\n",
    "#plt.plot(-r2, -v2, color=\"blue\")\n",
    "\n",
    "# Add axis labels\n",
    "plt.xlabel('R (kpc)', fontsize=22)\n",
    "plt.ylabel(r'v$_\\phi$ (km/s)', fontsize=22)\n",
    "\n",
    "#set axis limits\n",
    "plt.ylim(0, 300)\n",
    "plt.xlim(0, 50)\n",
    "\n",
    "#adjust tick label font size\n",
    "label_size = 22\n",
    "matplotlib.rcParams['xtick.labelsize'] = label_size \n",
    "matplotlib.rcParams['ytick.labelsize'] = label_size\n",
    "\n",
    "# Save file\n",
    "plt.savefig('plot/V%d.png'%snapnumber)"
   ]
  },
  {
   "cell_type": "code",
   "execution_count": null,
   "id": "7f666a2f-9e42-4ba4-a1a3-3d1e481fafa9",
   "metadata": {},
   "outputs": [],
   "source": [
    "rmax = np\n",
    "voversigma = MW_M31.Vmax_over_sigma(40, 150)\n",
    "# print(voversigma)\n",
    "\n",
    "fig = plt.figure(figsize=(12,10))\n",
    "ax = plt.subplot(111)\n",
    "\n",
    "\n",
    "# Add the circular velocity\n",
    "plt.plot(r2, voversigma, color=\"red\", label=\"Circular Velocity\")\n",
    "#plt.plot(-r, -Vcirc, color=\"red\")\n",
    "\n",
    "# Add axis labels\n",
    "plt.xlabel('R (kpc)', fontsize=22)\n",
    "plt.ylabel(r'$v_\\phi / \\sigma}$ (km/s)', fontsize=22)\n",
    "\n",
    "#set axis limits\n",
    "plt.ylim(0, 1)\n",
    "plt.xlim(0, 50)\n",
    "\n",
    "#adjust tick label font size\n",
    "label_size = 22\n",
    "matplotlib.rcParams['xtick.labelsize'] = label_size \n",
    "matplotlib.rcParams['ytick.labelsize'] = label_size\n",
    "\n",
    "\n",
    "# Save file\n",
    "plt.savefig('plot/Vprofile%d.png'%snapnumber)"
   ]
  }
 ],
 "metadata": {
  "kernelspec": {
   "display_name": "Python 3 (ipykernel)",
   "language": "python",
   "name": "python3"
  },
  "language_info": {
   "codemirror_mode": {
    "name": "ipython",
    "version": 3
   },
   "file_extension": ".py",
   "mimetype": "text/x-python",
   "name": "python",
   "nbconvert_exporter": "python",
   "pygments_lexer": "ipython3",
   "version": "3.10.9"
  }
 },
 "nbformat": 4,
 "nbformat_minor": 5
}
