{
 "cells": [
  {
   "cell_type": "code",
   "execution_count": 1,
   "id": "9dd71a2a-af31-430e-90d2-de5632541641",
   "metadata": {},
   "outputs": [],
   "source": [
    "# import class MergerRemnant\n",
    "import Remnant\n",
    "from Remnant import MergerRemnant\n",
    "\n",
    "# import all modules needed \n",
    "import numpy as np\n",
    "import astropy.units as u\n",
    "from astropy.constants import G\n",
    "\n",
    "# import plotting modules\n",
    "import matplotlib\n",
    "import matplotlib.pyplot as plt\n",
    "from matplotlib.colors import LogNorm"
   ]
  },
  {
   "cell_type": "code",
   "execution_count": 2,
   "id": "7ef67607-a99f-48da-bf05-b03cd0282e02",
   "metadata": {},
   "outputs": [],
   "source": [
    "def plotrotationcurve(rho, vphi, r2, v2, snap): \n",
    "    \n",
    "    fig = plt.figure(figsize=(12,10))\n",
    "    ax = plt.subplot(111)\n",
    "\n",
    "    plt.hist2d(rho, np.abs(vphi), bins=150, norm=LogNorm())\n",
    "    # plt.scatter(rho, np.abs(vphi))\n",
    "    plt.colorbar()\n",
    "\n",
    "    # Add the vcirc\n",
    "    plt.plot(rr, Vcirc, color=\"red\", label = \"V_circ\")\n",
    "    #plt.plot(-r2, -v2, color=\"blue\")\n",
    "\n",
    "    # Add the v_phi\n",
    "    plt.plot(r2, v2, color=\"blue\", label = \"V_phi\")\n",
    "    #plt.plot(-r2, -v2, color=\"blue\")\n",
    "\n",
    "    # Add axis labels\n",
    "    plt.xlabel('R (kpc)', fontsize=22)\n",
    "    plt.ylabel(r'v$_\\phi$ (km/s)', fontsize=22)\n",
    "\n",
    "    #set axis limits\n",
    "    plt.ylim(0, 300)\n",
    "    plt.xlim(0, 50)\n",
    "\n",
    "    #adjust tick label font size\n",
    "    label_size = 22\n",
    "    matplotlib.rcParams['xtick.labelsize'] = label_size \n",
    "    matplotlib.rcParams['ytick.labelsize'] = label_size\n",
    "\n",
    "    # Save file\n",
    "    plt.savefig('plot/V%d.png'%snap)"
   ]
  },
  {
   "cell_type": "code",
   "execution_count": 5,
   "id": "d24e351a-15ef-451b-b36d-4e835717e155",
   "metadata": {},
   "outputs": [
    {
     "ename": "TypeError",
     "evalue": "'int' object is not iterable",
     "output_type": "error",
     "traceback": [
      "\u001b[0;31m---------------------------------------------------------------------------\u001b[0m",
      "\u001b[0;31mTypeError\u001b[0m                                 Traceback (most recent call last)",
      "Cell \u001b[0;32mIn[5], line 9\u001b[0m\n\u001b[1;32m      6\u001b[0m voversigma \u001b[38;5;241m=\u001b[39m np\u001b[38;5;241m.\u001b[39mzeros(np\u001b[38;5;241m.\u001b[39msize(snapnumbers))\n\u001b[1;32m      8\u001b[0m \u001b[38;5;66;03m# create MergerRemenant object for each snapshots\u001b[39;00m\n\u001b[0;32m----> 9\u001b[0m \u001b[38;5;28;01mfor\u001b[39;00m i \u001b[38;5;129;01min\u001b[39;00m \u001b[38;5;28mlen\u001b[39m(snapnumbers): \n\u001b[1;32m     10\u001b[0m     MW_M31 \u001b[38;5;241m=\u001b[39m MergerRemnant(\u001b[38;5;124m\"\u001b[39m\u001b[38;5;124mMW\u001b[39m\u001b[38;5;124m\"\u001b[39m,\u001b[38;5;124m\"\u001b[39m\u001b[38;5;124mM31\u001b[39m\u001b[38;5;124m\"\u001b[39m, snapnumbers[i])\n\u001b[1;32m     11\u001b[0m     MW_M31\u001b[38;5;241m.\u001b[39mRotateAxis()\n",
      "\u001b[0;31mTypeError\u001b[0m: 'int' object is not iterable"
     ]
    }
   ],
   "source": [
    "# make array of snapshot numbers 0-10 Gyrs by step 2 Gyrs\n",
    "t = np.linspace(0, 10, 6)\n",
    "snaps = t * 0.7 /10 * 1000\n",
    "snapnumbers = snaps.round().astype(int)\n",
    "\n",
    "voversigma = np.zeros(np.size(snapnumbers))\n",
    "\n",
    "# create MergerRemenant object for each snapshots\n",
    "for i in len(snapnumbers): \n",
    "    MW_M31 = MergerRemnant(\"MW\",\"M31\", snapnumbers[i])\n",
    "    MW_M31.RotateAxis()\n",
    "    # MW_M31.EdgeOnVIew()\n",
    "    rr, Vcirc = MW_M31.V_circ()\n",
    "    r2, v2, rho, vphi = MW_M31.V_Phi()\n",
    "    plotrotationcurve(rho, vphi, r2, v2, snapnumbers[i])\n",
    "    voversigma[i] = MW_M31.Vmax_over_sigma(150, 40)\n",
    "    print('V/sigma: ',  voversigma[i])\n"
   ]
  },
  {
   "cell_type": "code",
   "execution_count": null,
   "id": "d0817070-0311-4309-ad3f-1b4f689f63a8",
   "metadata": {},
   "outputs": [],
   "source": [
    "#  plot v/sigma vs time\n",
    "fig = plt.figure(figsize=(12,10))\n",
    "ax = plt.subplot(111)\n",
    "\n",
    "# Add the circular velocity\n",
    "plt.plot(r2, voversigma, color=\"red\", label=\"Circular Velocity\")\n",
    "#plt.plot(-r, -Vcirc, color=\"red\")\n",
    "\n",
    "# Add axis labels\n",
    "plt.xlabel('R (kpc)', fontsize=22)\n",
    "plt.ylabel(r'$v_\\phi / \\sigma}$ (km/s)', fontsize=22)\n",
    "\n",
    "#set axis limits\n",
    "plt.ylim(0, 1)\n",
    "plt.xlim(0, 50)\n",
    "\n",
    "#adjust tick label font size\n",
    "label_size = 22\n",
    "matplotlib.rcParams['xtick.labelsize'] = label_size \n",
    "matplotlib.rcParams['ytick.labelsize'] = label_size\n",
    "\n",
    "\n",
    "# Save file\n",
    "plt.savefig('plot/Vprofile%d.png'%snapnumber)"
   ]
  }
 ],
 "metadata": {
  "kernelspec": {
   "display_name": "Python 3 (ipykernel)",
   "language": "python",
   "name": "python3"
  },
  "language_info": {
   "codemirror_mode": {
    "name": "ipython",
    "version": 3
   },
   "file_extension": ".py",
   "mimetype": "text/x-python",
   "name": "python",
   "nbconvert_exporter": "python",
   "pygments_lexer": "ipython3",
   "version": "3.10.9"
  }
 },
 "nbformat": 4,
 "nbformat_minor": 5
}
