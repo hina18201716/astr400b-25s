{
 "cells": [
  {
   "cell_type": "code",
   "execution_count": null,
   "id": "28939b08-9c86-4415-a2fe-878d7bdf946d",
   "metadata": {},
   "outputs": [],
   "source": [
    "# This code explorer kinematic profile of MW, M31 merger remenant,\n",
    "# by calculates velocity dispersion and rotation curve. \n"
   ]
  },
  {
   "cell_type": "code",
   "execution_count": 2,
   "id": "4402d01a-97a5-4cd5-bcab-068c8a76246d",
   "metadata": {},
   "outputs": [],
   "source": [
    "# import all modules needed \n",
    "import numpy as np\n",
    "import astropy.units as u\n",
    "from astropy.constants import G\n",
    "\n",
    "# import plotting modules\n",
    "import matplotlib\n",
    "import matplotlib.pyplot as plt\n",
    "from matplotlib.colors import LogNorm\n",
    "\n",
    "# my modules\n",
    "from ReadFile import Read\n",
    "from CenterOfMass import CenterOfMass\n",
    "from MassProfile import MassProfile\n"
   ]
  },
  {
   "cell_type": "code",
   "execution_count": 3,
   "id": "02b345a7-736f-424f-9749-973912409560",
   "metadata": {},
   "outputs": [],
   "source": [
    "# create center of mass object for MW and M31, snapshot #560 corresponding 8.0 Gyrs from now\n"
   ]
  },
  {
   "cell_type": "code",
   "execution_count": null,
   "id": "01efcbdd-8020-46be-bc58-3485a874eb71",
   "metadata": {},
   "outputs": [],
   "source": [
    "# extract disk and bulge particles ptype 1,2\n",
    "\n",
    "\n",
    "# combine those into single data set \n",
    "# numpy.concatenate() \n",
    "# https://numpy.org/doc/stable/reference/generated/numpy.concatenate.html \n",
    "\n",
    "\n"
   ]
  },
  {
   "cell_type": "code",
   "execution_count": 4,
   "id": "81a8e748-7dbe-4b38-b80e-659193423300",
   "metadata": {},
   "outputs": [],
   "source": [
    "# recalculate center of mass with all particles \n",
    "\n",
    "\n",
    "\n",
    "# calculate angular momentum of the system\n",
    "\n",
    "\n",
    "\n",
    "\n",
    "# re-position coordinate system to align z axis to be the rotational axis of system. \n",
    "# simply rotational axis x - rx, y - ry \n",
    "\n"
   ]
  },
  {
   "cell_type": "code",
   "execution_count": 6,
   "id": "95a0efab-0987-42ae-be2b-01dcc3fcc671",
   "metadata": {},
   "outputs": [],
   "source": [
    "# make a plot of rotation curve, v vs r (this may olny use to make sure it have rotation profile)\n"
   ]
  },
  {
   "cell_type": "code",
   "execution_count": 12,
   "id": "7f678bd7-c0dd-41ce-920e-94db1510c612",
   "metadata": {},
   "outputs": [],
   "source": [
    "# decide radius to calculate velocity profile upto. \n",
    "# want to use 15kpc or so to capture majority of partilces "
   ]
  },
  {
   "cell_type": "code",
   "execution_count": 10,
   "id": "71e48c66-9907-4974-80c7-4790d181e7a1",
   "metadata": {},
   "outputs": [],
   "source": [
    "# calculate v/ sigma by using particles in effective radius .\n",
    "# the actual average circular motions of the particles directly. translate v_x and v_y into v_phi (cylindical) and compute average \n",
    "\n",
    "# plot v_phi vs r , plateau is Vmax\n",
    "\n",
    "\n",
    "# find v ave  with np.mean() \n",
    "\n",
    "# sigma with np.std \n"
   ]
  },
  {
   "cell_type": "code",
   "execution_count": null,
   "id": "32b1839e-3d1d-4898-945e-636d86330de2",
   "metadata": {},
   "outputs": [],
   "source": []
  }
 ],
 "metadata": {
  "kernelspec": {
   "display_name": "Python 3 (ipykernel)",
   "language": "python",
   "name": "python3"
  },
  "language_info": {
   "codemirror_mode": {
    "name": "ipython",
    "version": 3
   },
   "file_extension": ".py",
   "mimetype": "text/x-python",
   "name": "python",
   "nbconvert_exporter": "python",
   "pygments_lexer": "ipython3",
   "version": "3.10.9"
  }
 },
 "nbformat": 4,
 "nbformat_minor": 5
}
