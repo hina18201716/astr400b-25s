{
 "cells": [
  {
   "cell_type": "code",
   "execution_count": null,
   "id": "28939b08-9c86-4415-a2fe-878d7bdf946d",
   "metadata": {},
   "outputs": [],
   "source": [
    "# This code explorer kinematic profile of MW, M31 merger remenant,\n",
    "# by calculates velocity dispersion and rotation curve. "
   ]
  },
  {
   "cell_type": "code",
   "execution_count": 7,
   "id": "4402d01a-97a5-4cd5-bcab-068c8a76246d",
   "metadata": {},
   "outputs": [],
   "source": [
    "# import all modules needed \n",
    "import numpy as np\n",
    "import astropy.units as u\n",
    "from astropy.constants import G\n",
    "\n",
    "# import plotting modules\n",
    "import matplotlib\n",
    "import matplotlib.pyplot as plt\n",
    "from matplotlib.colors import LogNorm\n",
    "\n",
    "# my modules\n",
    "from ReadFile import Read\n",
    "from CenterOfMass import CenterOfMass\n",
    "from MassProfile import MassProfile"
   ]
  },
  {
   "cell_type": "code",
   "execution_count": 13,
   "id": "02b345a7-736f-424f-9749-973912409560",
   "metadata": {},
   "outputs": [],
   "source": [
    "# create center of mass object for MW and M31, snapshot #560 corresponding 8.0 Gyrs from now\n",
    "\n",
    "# MW\n",
    "time_MW, n_MW, data_MW = Read(\"MW_560.txt\")\n",
    "\n",
    "# M31\n",
    "time_M31, n_M31, data_M31 = Read(\"M31_560.txt\")"
   ]
  },
  {
   "cell_type": "code",
   "execution_count": 24,
   "id": "01efcbdd-8020-46be-bc58-3485a874eb71",
   "metadata": {},
   "outputs": [],
   "source": [
    "# combine those into single data set \n",
    "# numpy.concatenate() \n",
    "# https://numpy.org/doc/stable/reference/generated/numpy.concatenate.html \n",
    "\n",
    "data = np.concatenate((data_MW, data_M31), axis=0 )\n",
    "# try this and do .shape\n",
    "\n",
    "index = np.where(data_MW['type'] != 3 )\n",
    "combined_data = data[index] \n",
    "\n"
   ]
  },
  {
   "cell_type": "code",
   "execution_count": 31,
   "id": "59f0ebfd-d6db-4da3-9a03-59ef9a737b39",
   "metadata": {},
   "outputs": [
    {
     "name": "stdout",
     "output_type": "stream",
     "text": [
      "(94500,)\n",
      "(67500,)\n",
      "[(1., 0.0078997, -546.089 , -53.9692, -197.853 ,  -71.7395,  -85.458 , -10.2538 )\n",
      " (1., 0.0078997, -120.744 ,  34.29  ,  364.802 ,  161.463 ,  -98.1336,  49.843  )\n",
      " (1., 0.0078997, -798.258 , 192.624 ,  -44.3198, -185.018 ,  -42.2444,   7.75465)\n",
      " ...\n",
      " (2., 0.0002   ,   85.1101,  28.6063,  119.434 ,  -53.58  ,   33.1616, -87.1816 )\n",
      " (2., 0.0002   ,   74.0016,  95.882 ,   51.5158,  448.285 ,   92.5689,  82.8194 )\n",
      " (2., 0.0002   ,  136.557 , 121.849 ,   84.9151,   78.6946, -147.395 ,  77.6644 )]\n"
     ]
    }
   ],
   "source": [
    "print(data_M31.shape)\n",
    "print(data_MW.shape)\n",
    "print(combined_data)"
   ]
  },
  {
   "cell_type": "code",
   "execution_count": 30,
   "id": "3c30e31c-3cb7-43ab-a536-3126793f7904",
   "metadata": {},
   "outputs": [
    {
     "ename": "ValueError",
     "evalue": "fmt has wrong number of % formats:  %11.3f%11.3f%11.3f%11.3f%11.3f%11.3f",
     "output_type": "error",
     "traceback": [
      "\u001b[0;31m---------------------------------------------------------------------------\u001b[0m",
      "\u001b[0;31mValueError\u001b[0m                                Traceback (most recent call last)",
      "Cell \u001b[0;32mIn[30], line 3\u001b[0m\n\u001b[1;32m      1\u001b[0m \u001b[38;5;66;03m# write the data to a file\u001b[39;00m\n\u001b[1;32m      2\u001b[0m filename \u001b[38;5;241m=\u001b[39m \u001b[38;5;124m\"\u001b[39m\u001b[38;5;124mRementant.txt\u001b[39m\u001b[38;5;124m\"\u001b[39m\n\u001b[0;32m----> 3\u001b[0m \u001b[43mnp\u001b[49m\u001b[38;5;241;43m.\u001b[39;49m\u001b[43msavetxt\u001b[49m\u001b[43m(\u001b[49m\u001b[43mfilename\u001b[49m\u001b[43m,\u001b[49m\u001b[43m \u001b[49m\u001b[43mcombined_data\u001b[49m\u001b[43m,\u001b[49m\u001b[43m \u001b[49m\u001b[43mfmt\u001b[49m\u001b[43m \u001b[49m\u001b[38;5;241;43m=\u001b[39;49m\u001b[43m \u001b[49m\u001b[38;5;124;43m\"\u001b[39;49m\u001b[38;5;132;43;01m%11.3f\u001b[39;49;00m\u001b[38;5;124;43m\"\u001b[39;49m\u001b[38;5;241;43m*\u001b[39;49m\u001b[38;5;241;43m6\u001b[39;49m\u001b[43m,\u001b[49m\u001b[43m \u001b[49m\u001b[43mcomments\u001b[49m\u001b[38;5;241;43m=\u001b[39;49m\u001b[38;5;124;43m'\u001b[39;49m\u001b[38;5;124;43m#\u001b[39;49m\u001b[38;5;124;43m'\u001b[39;49m\u001b[43m,\u001b[49m\u001b[43m \u001b[49m\n\u001b[1;32m      4\u001b[0m \u001b[43m           \u001b[49m\u001b[43mheader\u001b[49m\u001b[38;5;241;43m=\u001b[39;49m\u001b[38;5;124;43m\"\u001b[39;49m\u001b[38;5;132;43;01m{:>10s}\u001b[39;49;00m\u001b[38;5;132;43;01m{:>11s}\u001b[39;49;00m\u001b[38;5;132;43;01m{:>11s}\u001b[39;49;00m\u001b[38;5;132;43;01m{:>11s}\u001b[39;49;00m\u001b[38;5;132;43;01m{:>11s}\u001b[39;49;00m\u001b[38;5;132;43;01m{:>11s}\u001b[39;49;00m\u001b[38;5;132;43;01m{:>11s}\u001b[39;49;00m\u001b[38;5;124;43m\"\u001b[39;49m\u001b[43m\\\u001b[49m\n\u001b[1;32m      5\u001b[0m \u001b[43m           \u001b[49m\u001b[38;5;241;43m.\u001b[39;49m\u001b[43mformat\u001b[49m\u001b[43m(\u001b[49m\u001b[38;5;124;43m'\u001b[39;49m\u001b[38;5;124;43mt\u001b[39;49m\u001b[38;5;124;43m'\u001b[39;49m\u001b[43m,\u001b[49m\u001b[43m \u001b[49m\u001b[38;5;124;43m'\u001b[39;49m\u001b[38;5;124;43mx\u001b[39;49m\u001b[38;5;124;43m'\u001b[39;49m\u001b[43m,\u001b[49m\u001b[43m \u001b[49m\u001b[38;5;124;43m'\u001b[39;49m\u001b[38;5;124;43my\u001b[39;49m\u001b[38;5;124;43m'\u001b[39;49m\u001b[43m,\u001b[49m\u001b[43m \u001b[49m\u001b[38;5;124;43m'\u001b[39;49m\u001b[38;5;124;43mz\u001b[39;49m\u001b[38;5;124;43m'\u001b[39;49m\u001b[43m,\u001b[49m\u001b[43m \u001b[49m\u001b[38;5;124;43m'\u001b[39;49m\u001b[38;5;124;43mvx\u001b[39;49m\u001b[38;5;124;43m'\u001b[39;49m\u001b[43m,\u001b[49m\u001b[43m \u001b[49m\u001b[38;5;124;43m'\u001b[39;49m\u001b[38;5;124;43mvy\u001b[39;49m\u001b[38;5;124;43m'\u001b[39;49m\u001b[43m,\u001b[49m\u001b[43m \u001b[49m\u001b[38;5;124;43m'\u001b[39;49m\u001b[38;5;124;43mvz\u001b[39;49m\u001b[38;5;124;43m'\u001b[39;49m\u001b[43m)\u001b[49m\u001b[43m)\u001b[49m\n",
      "File \u001b[0;32m~/anaconda3/lib/python3.10/site-packages/numpy/lib/npyio.py:1603\u001b[0m, in \u001b[0;36msavetxt\u001b[0;34m(fname, X, fmt, delimiter, newline, header, footer, comments, encoding)\u001b[0m\n\u001b[1;32m   1601\u001b[0m     \u001b[38;5;28;01mraise\u001b[39;00m error\n\u001b[1;32m   1602\u001b[0m \u001b[38;5;28;01melif\u001b[39;00m ((\u001b[38;5;129;01mnot\u001b[39;00m iscomplex_X) \u001b[38;5;129;01mand\u001b[39;00m n_fmt_chars \u001b[38;5;241m!=\u001b[39m ncol):\n\u001b[0;32m-> 1603\u001b[0m     \u001b[38;5;28;01mraise\u001b[39;00m error\n\u001b[1;32m   1604\u001b[0m \u001b[38;5;28;01melse\u001b[39;00m:\n\u001b[1;32m   1605\u001b[0m     \u001b[38;5;28mformat\u001b[39m \u001b[38;5;241m=\u001b[39m fmt\n",
      "\u001b[0;31mValueError\u001b[0m: fmt has wrong number of % formats:  %11.3f%11.3f%11.3f%11.3f%11.3f%11.3f"
     ]
    }
   ],
   "source": [
    "# write the data to a file\n",
    "filename = \"Rementant.txt\"\n",
    "np.savetxt(filename, combined_data, fmt = \"%11.3f\"*6, comments='#', \n",
    "           header=\"{:>10s}{:>11s}{:>11s}{:>11s}{:>11s}{:>11s}{:>11s}\"\\\n",
    "           .format('t', 'x', 'y', 'z', 'vx', 'vy', 'vz'))\n"
   ]
  },
  {
   "cell_type": "code",
   "execution_count": 26,
   "id": "81a8e748-7dbe-4b38-b80e-659193423300",
   "metadata": {},
   "outputs": [],
   "source": [
    "# recalculate center of COM with Disk particles\n",
    "COMD = CenterOfMass(filename, 2)\n",
    "\n",
    "# Compute COM of remenent using disk particles\n",
    "COMP = COMD.COM_P(0.1)\n",
    "COMV = COMD.COM_V(COMP[0],COMP[1],COMP[2])\n",
    "\n",
    "# Determine positions of disk particles relative to COM \n",
    "xD = COMD.x - COMP[0].value \n",
    "yD = COMD.y - COMP[1].value \n",
    "zD = COMD.z - COMP[2].value \n",
    "\n",
    "# total magnitude\n",
    "rtot = np.sqrt(xD**2 + yD**2 + zD**2)\n",
    "\n",
    "# Determine velocities of disk particles relatiev to COM motion\n",
    "vxD = COMD.vx - COMV[0].value \n",
    "vyD = COMD.vy - COMV[1].value \n",
    "vzD = COMD.vz - COMV[2].value \n",
    "\n",
    "# total velocity \n",
    "vtot = np.sqrt(vxD**2 + vyD**2 + vzD**2)\n",
    "\n",
    "\n",
    "\n",
    "# calculate angular momentum of the system\n",
    "# ????\n",
    "\n",
    "# ang = np.array\n",
    "\n",
    "\n",
    "# re-position coordinate system to align z axis to be the rotational axis of system. \n",
    "# simply rotational axis x - rx, y - ry \n",
    "\n",
    "\n",
    "\n"
   ]
  },
  {
   "cell_type": "code",
   "execution_count": 6,
   "id": "95a0efab-0987-42ae-be2b-01dcc3fcc671",
   "metadata": {},
   "outputs": [],
   "source": [
    "# make a plot of rotation curve, v vs r (this may olny use to make sure it have rotation profile)\n"
   ]
  },
  {
   "cell_type": "code",
   "execution_count": 12,
   "id": "7f678bd7-c0dd-41ce-920e-94db1510c612",
   "metadata": {},
   "outputs": [],
   "source": [
    "# decide radius to calculate velocity profile upto. \n",
    "# want to use 15kpc or so to capture majority of partilces \n",
    "\n"
   ]
  },
  {
   "cell_type": "code",
   "execution_count": 10,
   "id": "71e48c66-9907-4974-80c7-4790d181e7a1",
   "metadata": {},
   "outputs": [],
   "source": [
    "# calculate v/ sigma by using particles in effective radius .\n",
    "# the actual average circular motions of the particles directly. translate v_x and v_y into v_phi (cylindical) and compute average \n",
    "\n",
    "# plot v_phi vs r , plateau is Vmax\n",
    "\n",
    "\n",
    "# find v ave  with np.mean() \n",
    "\n",
    "# sigma with np.std \n"
   ]
  },
  {
   "cell_type": "code",
   "execution_count": null,
   "id": "32b1839e-3d1d-4898-945e-636d86330de2",
   "metadata": {},
   "outputs": [],
   "source": []
  }
 ],
 "metadata": {
  "kernelspec": {
   "display_name": "Python 3 (ipykernel)",
   "language": "python",
   "name": "python3"
  },
  "language_info": {
   "codemirror_mode": {
    "name": "ipython",
    "version": 3
   },
   "file_extension": ".py",
   "mimetype": "text/x-python",
   "name": "python",
   "nbconvert_exporter": "python",
   "pygments_lexer": "ipython3",
   "version": "3.10.9"
  }
 },
 "nbformat": 4,
 "nbformat_minor": 5
}
