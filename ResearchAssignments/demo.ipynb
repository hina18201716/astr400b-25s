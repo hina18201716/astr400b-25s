{
 "cells": [
  {
   "cell_type": "code",
   "execution_count": 2,
   "id": "9dd71a2a-af31-430e-90d2-de5632541641",
   "metadata": {},
   "outputs": [],
   "source": [
    "# import class MergerRemnant\n",
    "import Remnant\n",
    "from Remnant import *\n",
    "\n",
    "import MassProfile\n",
    "from MassProfile import *\n",
    "\n",
    "# import all modules needed \n",
    "import numpy as np\n",
    "import astropy.units as u\n",
    "from astropy.constants import G\n",
    "\n",
    "# import plotting modules\n",
    "import matplotlib\n",
    "import matplotlib.pyplot as plt\n",
    "from matplotlib.colors import LogNorm"
   ]
  },
  {
   "cell_type": "markdown",
   "id": "67aa929f-7334-4dbc-a20c-1fdbbd2c3480",
   "metadata": {},
   "source": [
    "## Find Half Mass Radius"
   ]
  },
  {
   "cell_type": "code",
   "execution_count": 3,
   "id": "7b81bbd2-7751-4d0f-9980-0ff35f7e4c2a",
   "metadata": {},
   "outputs": [
    {
     "name": "stdout",
     "output_type": "stream",
     "text": [
      "Half mass radius calculated with 579 snapshot is (kpc):  9\n"
     ]
    }
   ],
   "source": [
    "# Find Half mass radius with snapshot 579\n",
    "Rm = MassProfile(\"Remnant\", 579)\n",
    "rr = np.arange(0, 50, 1)\n",
    "mass = Rm.MassEnclosed(2, rr)\n",
    "\n",
    "ind = np.where(mass < (mass[-1]/2))\n",
    "rhalf = rr[ind][-1]\n",
    "print(\"Half mass radius calculated with 579 snapshot is (kpc): \", rhalf)"
   ]
  },
  {
   "cell_type": "markdown",
   "id": "4af549e6-8e64-45b4-b355-d8ced3b6ff4d",
   "metadata": {},
   "source": [
    "## Find V_max "
   ]
  },
  {
   "cell_type": "code",
   "execution_count": 4,
   "id": "48958f42-575a-415d-b60e-c0b738bac280",
   "metadata": {},
   "outputs": [
    {
     "name": "stdout",
     "output_type": "stream",
     "text": [
      "V_max is : 128.56744768396825\n"
     ]
    }
   ],
   "source": [
    "MW_M31 = MergerRemnant(\"MW\",\"M31\", 579)\n",
    "MW_M31.RotateAxis()\n",
    "r2, v2, rho, vphi = MW_M31.V_Phi()\n",
    "\n",
    "ind = np.where((r2>=30) & (r2<= 50))\n",
    "v_max = np.mean(v2[ind])\n",
    "\n",
    "print(f\"V_max is : {v_max}\")"
   ]
  },
  {
   "cell_type": "code",
   "execution_count": 5,
   "id": "d24e351a-15ef-451b-b36d-4e835717e155",
   "metadata": {},
   "outputs": [
    {
     "name": "stderr",
     "output_type": "stream",
     "text": [
      "/Users/suzukihina/anaconda3/lib/python3.10/site-packages/numpy/core/fromnumeric.py:3504: RuntimeWarning: Mean of empty slice.\n",
      "  return _methods._mean(a, axis=axis, dtype=dtype,\n",
      "/Users/suzukihina/anaconda3/lib/python3.10/site-packages/numpy/core/_methods.py:129: RuntimeWarning: invalid value encountered in scalar divide\n",
      "  ret = ret.dtype.type(ret / rcount)\n",
      "/Users/suzukihina/anaconda3/lib/python3.10/site-packages/numpy/core/_methods.py:206: RuntimeWarning: Degrees of freedom <= 0 for slice\n",
      "  ret = _var(a, axis=axis, dtype=dtype, out=out, ddof=ddof,\n",
      "/Users/suzukihina/anaconda3/lib/python3.10/site-packages/numpy/core/_methods.py:163: RuntimeWarning: invalid value encountered in divide\n",
      "  arrmean = um.true_divide(arrmean, div, out=arrmean,\n",
      "/Users/suzukihina/anaconda3/lib/python3.10/site-packages/numpy/core/_methods.py:198: RuntimeWarning: invalid value encountered in scalar divide\n",
      "  ret = ret.dtype.type(ret / rcount)\n"
     ]
    },
    {
     "name": "stdout",
     "output_type": "stream",
     "text": [
      "Time:  0\n"
     ]
    },
    {
     "name": "stderr",
     "output_type": "stream",
     "text": [
      "/Users/suzukihina/Desktop/spring2025/astr400b-25s/ra/Remnant.py:239: RuntimeWarning: divide by zero encountered in divide\n",
      "  return v_max / sigma\n"
     ]
    },
    {
     "name": "stdout",
     "output_type": "stream",
     "text": [
      "Time:  1\n",
      "Time:  2\n",
      "Time:  3\n",
      "Time:  4\n",
      "Time:  5\n",
      "Time:  6\n",
      "Time:  7\n",
      "Time:  8\n",
      "Time:  9\n",
      "Time:  10\n",
      "Time:  11\n",
      "Time:  12\n",
      "Time:  13\n",
      "Time:  14\n",
      "Time:  15\n",
      "Time:  16\n",
      "Time:  17\n",
      "Time:  18\n",
      "Time:  19\n",
      "Time:  20\n",
      "Time:  21\n",
      "Time:  22\n",
      "Time:  23\n",
      "Time:  24\n",
      "Time:  25\n",
      "Time:  26\n",
      "Time:  27\n",
      "Time:  28\n",
      "Time:  29\n",
      "V/sigma:  0.06901611048310766\n"
     ]
    }
   ],
   "source": [
    "# make array of snapshot numbers 0-10 Gyrs by step 2 Gyrs\n",
    "t = np.linspace(0, 10, 30)\n",
    "snaps = t * 0.7 /10 * 1000\n",
    "snapnumbers = snaps.round().astype(int)\n",
    "\n",
    "voversigma = np.zeros((np.size(snapnumbers), 50) )\n",
    "\n",
    "\n",
    "for i in range(0, len(snapnumbers), 1):\n",
    "    \n",
    "    # create remnant text file and object \n",
    "    MW_M31 = MergerRemnant(\"MW\",\"M31\", snapnumbers[i])\n",
    "\n",
    "    # roatate axis such that major rotational axis match with z axis \n",
    "    MW_M31.RotateAxis()\n",
    "\n",
    "    # show edge on view as 2D histogram\n",
    "    # MW_M31.EdgeOnVIew()\n",
    "    \n",
    "    # calculate circular velocity \n",
    "    rr, Vcirc = MW_M31.V_circ()\n",
    "\n",
    "    # calculate v_phi \n",
    "    r2, v2, rho, vphi = MW_M31.V_Phi()\n",
    "        \n",
    "    # make rotation curve \n",
    "    # RotationCurve(rho, rr, Vcirc, r2, v2, snapnumbers[i])\n",
    "    \n",
    "    # calculate v_max/sigma\n",
    "    voversigma[i, :] = MW_M31.Vmax_over_sigma(v_max, rhalf)\n",
    "    print(\"Time: \", i)\n",
    "    \n",
    "    \n",
    "print('V/sigma: ',  voversigma[i, rhalf])"
   ]
  },
  {
   "cell_type": "code",
   "execution_count": 6,
   "id": "f52ac07b-296c-4989-861a-bc17d5e4c1bb",
   "metadata": {},
   "outputs": [
    {
     "data": {
      "image/png": "[encoded data removed]",
      "text/plain": [
       "<Figure size 640x480 with 1 Axes>"
      ]
     },
     "metadata": {},
     "output_type": "display_data"
    }
   ],
   "source": [
    "\n",
    "plt.plot(t, voversigma[:, rhalf], '-o')\n",
    "plt.xlabel(\"Time (Gyrs) \", fontsize=15)\n",
    "plt.ylabel(r'$V_{max}/ \\sigma$', fontsize=15)\n",
    "\n",
    "plt.hlines(y=0.07, xmin=0,xmax=10, color=\"red\", linestyle=\"--\")\n",
    "# plt.hlines(y=0.6, xmin=0,xmax=10, color=\"red\", linestyle=\"--\")\n",
    "plt.ylim(0,0.35)\n",
    "\n",
    "plt.savefig(\"plot/V_sigma.pdf\")"
   ]
  }
 ],
 "metadata": {
  "kernelspec": {
   "display_name": "Python 3 (ipykernel)",
   "language": "python",
   "name": "python3"
  },
  "language_info": {
   "codemirror_mode": {
    "name": "ipython",
    "version": 3
   },
   "file_extension": ".py",
   "mimetype": "text/x-python",
   "name": "python",
   "nbconvert_exporter": "python",
   "pygments_lexer": "ipython3",
   "version": "3.10.9"
  }
 },
 "nbformat": 4,
 "nbformat_minor": 5
}
