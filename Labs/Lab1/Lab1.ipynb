{
 "cells": [
  {
   "cell_type": "markdown",
   "metadata": {},
   "source": [
    "# In Class Lab 1\n",
    "\n",
    "### Due by midnight, thursday in your github repository 'Labs/Lab1' folder\n"
   ]
  },
  {
   "cell_type": "code",
   "execution_count": 1,
   "metadata": {},
   "outputs": [],
   "source": [
    "# Import Modules \n",
    "import numpy as np # import numpy\n",
    "import astropy.units as u # import astropy units\n",
    "from astropy import constants as const # import astropy constants"
   ]
  },
  {
   "cell_type": "markdown",
   "metadata": {},
   "source": [
    "### Astropy Units:  https://docs.astropy.org/en/stable/units/index.html"
   ]
  },
  {
   "cell_type": "markdown",
   "metadata": {},
   "source": [
    "\n",
    "## Part A:  The Local Standard of Rest\n",
    "Proper motion of Sgr A* from Reid & Brunthaler 2004\n",
    "$\\mu = 6.379$ mas/yr \n",
    "\n",
    "Peculiar motion of the sun, $v_\\odot$ = 12.24 km/s  (Schonrich 2010)\n",
    "\n",
    "\n",
    "$v_{tan} = 4.74 \\frac{\\mu}{\\rm mas/yr} \\frac{R_o}{\\rm kpc} = V_{LSR} + v_\\odot$\n",
    "\n",
    "\n",
    "### a)\n",
    "\n",
    "Create a function called VLSR to compute the local standard of res (V$_{LSR}$).\n",
    "\n",
    "The function should take as input: the solar radius (R$_o$), the proper motion (mu)\n",
    "and the peculiar motion of the sun in the $v_\\odot$ direction.\n",
    "\n",
    "Compute V$_{LSR}$ using three different values R$_o$: \n",
    "1. Water Maser Distance for the Sun :  R$_o$ = 8.34 kpc   (Reid 2014 ApJ 783) \n",
    "2. GRAVITY Collaboration Distance for the Sun:  R$_o$ = 8.178 kpc   (Abuter+2019 A&A 625)\n",
    "3. Value for Distance to Sun listed in Sparke & Gallagher : R$_o$ = 7.9 kpc \n"
   ]
  },
  {
   "cell_type": "code",
   "execution_count": 2,
   "metadata": {},
   "outputs": [],
   "source": [
    "# 4.47*mu*Ro = VLSR + vsun\n",
    "\n",
    "def VLSR(Ro, mu=6.379, vsun=12.24*u.km/u.s):\n",
    "    \"\"\" This function will compute the velocity at the local standard of rest \n",
    "        VLSR = 4.74 * mu * Ro - vsun\n",
    "    Inputs: Ro (astropy units kpc) Distance from the Sun to the Galactic Center.\n",
    "            mu is the proper motion of SgrA* (mas/yr), default is from Reid & Brunthaler 2004.\n",
    "            vsun (astropy units km/s) the peculiar motion of the Sun in teh v direction (Schonrich 2010).\n",
    "    Output: VLSR(astropy units km/s) The local standard of rest\n",
    "    \"\"\"\n",
    "    VLSR = 4.74 * mu * (Ro/u.kpc) * u.km/u.s - vsun\n",
    "    return VLSR"
   ]
  },
  {
   "cell_type": "code",
   "execution_count": 3,
   "metadata": {},
   "outputs": [],
   "source": [
    "# Different values of the distance to the Galactic Center\n",
    "\n",
    "RoReid = 8.34 * u.kpc #(Reid 2014 ApJ 783) \n",
    "RoAbuter = 8.1778 * u.kpc #(Abuter+2019 A&A 625)\n",
    "RoSparke = 7.9 * u.kpc #Sparke & Gallagher"
   ]
  },
  {
   "cell_type": "code",
   "execution_count": 4,
   "metadata": {},
   "outputs": [
    {
     "name": "stdout",
     "output_type": "stream",
     "text": [
      "239.9320764 km / s\n"
     ]
    }
   ],
   "source": [
    "# Compute VLSR using Reid 2004\n",
    "\n",
    "VLSR_Reid = VLSR(RoReid)\n",
    "print(VLSR_Reid)"
   ]
  },
  {
   "cell_type": "code",
   "execution_count": 5,
   "metadata": {},
   "outputs": [
    {
     "name": "stdout",
     "output_type": "stream",
     "text": [
      "235.027722588 km / s\n"
     ]
    }
   ],
   "source": [
    "# Compute VLAR using Abuter 2019\n",
    "VLSR_Abuter = VLSR(RoAbuter)\n",
    "print(VLSR_Abuter)"
   ]
  },
  {
   "cell_type": "code",
   "execution_count": 6,
   "metadata": {},
   "outputs": [
    {
     "name": "stdout",
     "output_type": "stream",
     "text": [
      "227.0 km / s\n"
     ]
    }
   ],
   "source": [
    "# Compute VLSR from Sparke & Gallagher\n",
    "VLSR_Sparke = VLSR(RoSparke)\n",
    "print(np.round(VLSR_Sparke))"
   ]
  },
  {
   "cell_type": "markdown",
   "metadata": {
    "tags": []
   },
   "source": [
    "### b)\n",
    "\n",
    "compute the orbital period of the sun in Gyr using R$_o$ from the GRAVITY Collaboration (assume circular orbit)\n",
    "\n",
    "Note that 1 km/s $\\sim$ 1kpc/Gyr"
   ]
  },
  {
   "cell_type": "code",
   "execution_count": 7,
   "metadata": {},
   "outputs": [],
   "source": [
    "def TorbSun(Ro, Vc):\n",
    "        \"\"\"\n",
    "        Function that computes the orbital period of the Sun. \n",
    "        T = 2 pi R / V \n",
    "        Inputs : \n",
    "                Ro 'astropy quantity' (kpc) distance to the Galactic Center form the Sun\n",
    "                Vc 'astropy quantity' (km/s) velocity of the sun in the \"v\" direction\n",
    "        Output : T 'astropy quantity' Prbital Period (Gyr)\n",
    "        \n",
    "        \"\"\"\n",
    "        \n",
    "        VkpcGyr = Vc.to(u.kpc/u.Gyr) # convert V to kpc / Gyr\n",
    "        T = 2 * np.pi  * Ro / VkpcGyr # Orbital period\n",
    "        \n",
    "        return T "
   ]
  },
  {
   "cell_type": "code",
   "execution_count": 8,
   "metadata": {},
   "outputs": [],
   "source": [
    "VsunPec = 12.24 * u.km/ u.s # peculiar motion "
   ]
  },
  {
   "cell_type": "code",
   "execution_count": 9,
   "metadata": {},
   "outputs": [],
   "source": [
    "Vsun = VLSR_Abuter + VsunPec # the total motion of the sun in \"v\" direction "
   ]
  },
  {
   "cell_type": "code",
   "execution_count": 10,
   "metadata": {},
   "outputs": [
    {
     "name": "stdout",
     "output_type": "stream",
     "text": [
      "0.20318680562272237 Gyr\n",
      "0.203 Gyr\n"
     ]
    }
   ],
   "source": [
    "# Orbital period of the sun \n",
    "T_Abuter = TorbSun(RoAbuter, Vsun)\n",
    "print(T_Abuter)\n",
    "print(np.round(T_Abuter, 3))"
   ]
  },
  {
   "cell_type": "markdown",
   "metadata": {},
   "source": [
    "### c)\n",
    "\n",
    "Compute the number of rotations about the GC over the age of the universe (13.8 Gyr)"
   ]
  },
  {
   "cell_type": "code",
   "execution_count": 11,
   "metadata": {},
   "outputs": [
    {
     "name": "stdout",
     "output_type": "stream",
     "text": [
      "67.91779593023311\n"
     ]
    }
   ],
   "source": [
    "AgeUniverse = 13.8 * u.Gyr\n",
    "print(AgeUniverse / T_Abuter)"
   ]
  },
  {
   "cell_type": "code",
   "execution_count": null,
   "metadata": {},
   "outputs": [],
   "source": []
  },
  {
   "cell_type": "markdown",
   "metadata": {},
   "source": [
    "## Part B  Dark Matter Density Profiles\n",
    "\n",
    "### a)\n",
    "Try out Fitting Rotation Curves \n",
    "[here](http://wittman.physics.ucdavis.edu/Animations/RotationCurve/GalacticRotation.html)\n",
    "\n",
    "\n",
    "### b)\n",
    "\n",
    "\n",
    "In the Isothermal Sphere model, what is the mass enclosed within the solar radius (R$_o$) in units of M$_\\odot$? \n",
    "\n",
    "Recall that for the Isothermal sphere :\n",
    "$\\rho(r) = \\frac{V_{LSR}^2}{4\\pi G r^2}$\n",
    "\n",
    "Where $G$ = 4.4985e-6 kpc$^3$/Gyr$^2$/M$_\\odot$, r is in kpc and $V_{LSR}$ is in km/s\n",
    "\n",
    "What about at 260 kpc (in units of  M$_\\odot$) ? "
   ]
  },
  {
   "cell_type": "code",
   "execution_count": 16,
   "metadata": {},
   "outputs": [
    {
     "name": "stdout",
     "output_type": "stream",
     "text": [
      "  Name   = Gravitational constant\n",
      "  Value  = 6.6743e-11\n",
      "  Uncertainty  = 1.5e-15\n",
      "  Unit  = m3 / (kg s2)\n",
      "  Reference = CODATA 2018\n"
     ]
    }
   ],
   "source": [
    "print(const.G)"
   ]
  },
  {
   "cell_type": "code",
   "execution_count": 20,
   "metadata": {},
   "outputs": [
    {
     "name": "stdout",
     "output_type": "stream",
     "text": [
      "4.498502151469554e-06 kpc3 / (Gyr2 solMass)\n"
     ]
    }
   ],
   "source": [
    "Grav = const.G.to(u.kpc**3 / u.Gyr**2 / u.M_sun)\n",
    "print(Grav)"
   ]
  },
  {
   "cell_type": "code",
   "execution_count": 37,
   "metadata": {},
   "outputs": [],
   "source": [
    "# Density profile rho = VLSR^2/ (4 pi * G * R^2)\n",
    "# Mass (r) = Integrate rho dv \n",
    "#         Integrade rho 4 pi r^2 dr \n",
    "#         Integrade VLSR^2 / (4 pi * G * r^2) * (4 pi * r^2) dr \n",
    "#         Integrade VLSR^2 / G dr\n",
    "#         VLSR^2 /G *r\n",
    "\n",
    "\n",
    "def massIso(r, VLSR): \n",
    "    \"\"\"\n",
    "    This fucntion will compute the dark matter enclosed within a given distance r, assuming an Isothermal Sphere Model \n",
    "        M(r) = VLSR^2 / G * r \n",
    "        \n",
    "    Input: r (astropy quantity) distance from the Galactice Center (kpc)\n",
    "            VLSR (astropy quantity) the velocity at the Local Standard of Rest \n",
    "            \n",
    "    Output: M (astropy quantity) mass enclosed in r (Msun)\n",
    "    \n",
    "    \"\"\"\n",
    "    \n",
    "    VLSRkpcGyr = VLSR.to(u.kpc/u.Gyr) #translate to kpc/Gyr\n",
    "    M = VLSRkpcGyr ** 2 / Grav * r\n",
    "    \n",
    "    \n",
    "    return M"
   ]
  },
  {
   "cell_type": "code",
   "execution_count": 35,
   "metadata": {},
   "outputs": [
    {
     "name": "stdout",
     "output_type": "stream",
     "text": [
      "105030052084.17786 solMass\n",
      "1.05e+11 solMass\n"
     ]
    }
   ],
   "source": [
    "# Compute the mass enclosed with in 260kpc \n",
    "mIsoSolar = massIso(RoAbuter, VLSR_Abuter)\n",
    "print(mIsoSolar)\n",
    "print(f\"{mIsoSolar:.2e}\")"
   ]
  },
  {
   "cell_type": "code",
   "execution_count": 36,
   "metadata": {},
   "outputs": [
    {
     "name": "stdout",
     "output_type": "stream",
     "text": [
      "3339261603595.863 solMass\n",
      "3.34e+12 solMass\n"
     ]
    }
   ],
   "source": [
    "mIso260 = massIso(260*u.kpc, VLSR_Abuter)\n",
    "print(mIso260)\n",
    "print(f\"{mIso260:.2e}\")"
   ]
  },
  {
   "cell_type": "markdown",
   "metadata": {},
   "source": [
    "## c) \n",
    "\n",
    "The Leo I satellite is one of the fastest moving satellite galaxies we know. \n",
    "\n",
    "\n",
    "It is moving with 3D velocity of magnitude: Vtot = 196 km/s at a distance of 260 kpc (Sohn 2013 ApJ 768)\n",
    "\n",
    "If we assume that Leo I is moving at the escape speed:\n",
    "\n",
    "$v_{esc}^2 = 2|\\Phi| = 2 \\int G \\frac{\\rho(r)}{r}dV $ \n",
    "\n",
    "and assuming the Milky Way is well modeled by a Hernquist Sphere with a scale radius of $a$= 30 kpc, what is the minimum mass of the Milky Way (in units of M$_\\odot$) ?  \n",
    "\n",
    "How does this compare to estimates of the mass assuming the Isothermal Sphere model at 260 kpc (from your answer above)"
   ]
  },
  {
   "cell_type": "code",
   "execution_count": 40,
   "metadata": {},
   "outputs": [],
   "source": [
    "# Potential for a Hernquist Sphere\n",
    "# phi = -G * M / (r+a)\n",
    "\n",
    "# Escape speed becomes: \n",
    "#     vesc^2 = 2G*M / (r+a)\n",
    "    \n",
    "# Rearrange for M \n",
    "# M = vesc^2/2/G*(r+a)\n",
    "\n",
    "def massHernVesc(vesc, r, a=30*u.kpc):\n",
    "    \"\"\"\n",
    "    This function determines the total dark matter mass needed given an escape speed, assuming a Hernquist profile\n",
    "    M = vesc^2 / 2/ G *(r+a)\n",
    "    \n",
    "    Input: vesc (astropy quantity) escape speed (km/s)\n",
    "            r  (astropy quantity) distance from the Galactic Center (kpc)\n",
    "            a (astropy quantity) the Hernquist scale length (kpc)\n",
    "    Output: M (astropy quantity) mass within r (Msun)\n",
    "    \"\"\"\n",
    "    \n",
    "    vescKpcGyr = vesc.to(u.kpc/u.Gyr) # translate into kpc/Gyr\n",
    "    M = vescKpcGyr**2/2/Grav*(r+a)\n",
    "    \n",
    "\n",
    "    return M"
   ]
  },
  {
   "cell_type": "code",
   "execution_count": 42,
   "metadata": {},
   "outputs": [],
   "source": [
    "Vleo = 196*u.km/u.s\n",
    "r = 260*u.kpc"
   ]
  },
  {
   "cell_type": "code",
   "execution_count": 43,
   "metadata": {},
   "outputs": [],
   "source": [
    "MleoI = massHernVesc(Vleo, r)"
   ]
  },
  {
   "cell_type": "code",
   "execution_count": 44,
   "metadata": {},
   "outputs": [
    {
     "name": "stdout",
     "output_type": "stream",
     "text": [
      "1295146976857.1042 solMass\n"
     ]
    }
   ],
   "source": [
    "print(f\"{MleoI}\")"
   ]
  },
  {
   "cell_type": "code",
   "execution_count": null,
   "metadata": {},
   "outputs": [],
   "source": []
  }
 ],
 "metadata": {
  "kernelspec": {
   "display_name": "Python 3 (ipykernel)",
   "language": "python",
   "name": "python3"
  },
  "language_info": {
   "codemirror_mode": {
    "name": "ipython",
    "version": 3
   },
   "file_extension": ".py",
   "mimetype": "text/x-python",
   "name": "python",
   "nbconvert_exporter": "python",
   "pygments_lexer": "ipython3",
   "version": "3.10.9"
  }
 },
 "nbformat": 4,
 "nbformat_minor": 4
}
