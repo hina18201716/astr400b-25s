{
 "cells": [
  {
   "cell_type": "code",
   "execution_count": 4,
   "metadata": {
    "tags": []
   },
   "outputs": [],
   "source": [
    "# Homework 4\n",
    "# Center of Mass Position and Velocity\n",
    "# Hina Suzuki"
   ]
  },
  {
   "cell_type": "code",
   "execution_count": 6,
   "metadata": {
    "ExecuteTime": {
     "end_time": "2020-02-04T23:59:21.657237Z",
     "start_time": "2020-02-04T23:59:21.653687Z"
    },
    "tags": []
   },
   "outputs": [],
   "source": [
    "# import modules\n",
    "import numpy as np\n",
    "import astropy.units as u\n",
    "import astropy.table as tbl\n",
    "\n",
    "from ReadFile import Read"
   ]
  },
  {
   "cell_type": "code",
   "execution_count": 7,
   "metadata": {
    "ExecuteTime": {
     "end_time": "2020-02-04T23:59:24.003059Z",
     "start_time": "2020-02-04T23:59:23.979271Z"
    },
    "tags": []
   },
   "outputs": [],
   "source": [
    "class CenterOfMass:\n",
    "# Class to define COM position and velocity properties \n",
    "# of a given galaxy and simulation snapshot\n",
    "\n",
    "    def __init__(self, filename, ptype):\n",
    "        ''' Class to calculate the 6-D phase-space position of a galaxy's center of mass using\n",
    "        a specified particle type. \n",
    "            \n",
    "            PARAMETERS\n",
    "            ----------\n",
    "            filename : `str`\n",
    "                snapshot file\n",
    "            ptype : `int; 1, 2, or 3`\n",
    "                particle type to use for COM calculations\n",
    "        '''\n",
    "     \n",
    "        # read data in the given file using Read\n",
    "        self.time, self.total, self.data = Read(filename)                                                                                             \n",
    "\n",
    "        #create an array to store indexes of particles of desired Ptype                                \n",
    "        self.index = np.where(self.data['type'] == ptype)\n",
    "\n",
    "        # store the mass, positions, velocities of only the particles of the given type\n",
    "        # the following only gives the example of storing the mass\n",
    "        self.m = self.data['m'][self.index]\n",
    "        self.x = self.data['x'][self.index] \n",
    "        self.y = self.data['y'][self.index] \n",
    "        self.z = self.data['z'][self.index] \n",
    "        self.vx = self.data['vx'][self.index] \n",
    "        self.vy = self.data['vy'][self.index]\n",
    "        self.vz = self.data['vz'][self.index] \n",
    "\n",
    "    def COMdefine(self,a,b,c,m):\n",
    "        ''' Method to compute the COM of a generic vector quantity by direct weighted averaging.\n",
    "        \n",
    "        PARAMETERS\n",
    "        ----------\n",
    "        a : `float or np.ndarray of floats`\n",
    "            first vector component\n",
    "        b : `float or np.ndarray of floats`\n",
    "            second vector component\n",
    "        c : `float or np.ndarray of floats`\n",
    "            third vector component\n",
    "        m : `float or np.ndarray of floats`\n",
    "            particle masses\n",
    "        \n",
    "        RETURNS\n",
    "        -------\n",
    "        a_com : `float`\n",
    "            first component on the COM vector\n",
    "        b_com : `float`\n",
    "            second component on the COM vector\n",
    "        c_com : `float`\n",
    "            third component on the COM vector\n",
    "        '''\n",
    "       \n",
    "        # xcomponent Center of mass\n",
    "        a_com = np.sum(a*m) / np.sum(m)\n",
    "        # ycomponent Center of mass\n",
    "        b_com = np.sum(b*m) / np.sum(m)\n",
    "        # zcomponent Center of mass\n",
    "        c_com = np.sum(c*m) / np.sum(m)\n",
    "        \n",
    "        return a_com, b_com, c_com\n",
    "    \n",
    "    def COM_P(self, delta):\n",
    "        '''Method to compute the position of the center of mass of the galaxy \n",
    "        using the shrinking-sphere method.\n",
    "\n",
    "        PARAMETERS\n",
    "        ----------\n",
    "        delta : `float, optional`\n",
    "            error tolerance in kpc. Default is 0.1 kpc\n",
    "        \n",
    "        RETURNS\n",
    "        ----------\n",
    "        p_COM : `np.ndarray of astropy.Quantity'\n",
    "            3-D position of the center of mass in kpc\n",
    "        '''                                                                     \n",
    "\n",
    "        # Center of Mass Position                                                                                      \n",
    "        ###########################                                                                                    \n",
    "\n",
    "        # Try a first guess at the COM position by calling COMdefine                                                   \n",
    "        x_COM, y_COM, z_COM = self.COMdefine(self.x, self.y, self.z, self.m)\n",
    "        # compute the magnitude of the COM position vector.\n",
    "        r_COM = np.sqrt(x_COM**2 + y_COM**2 + z_COM**2)\n",
    "\n",
    "\n",
    "        # iterative process to determine the center of mass                                                            \n",
    "\n",
    "        # change reference frame to COM frame                                                                          \n",
    "        # compute the difference between particle coordinates                                                          \n",
    "        # and the first guess at COM position\n",
    "        x_new = self.x - x_COM\n",
    "        y_new = self.y - y_COM\n",
    "        z_new = self.z - z_COM\n",
    "        r_new = np.sqrt(x_new**2 + y_new**2 + z_new**2)\n",
    "\n",
    "\n",
    "        # find the max 3D distance of all particles from the guessed COM                                               \n",
    "        # will re-start at half that radius (reduced radius)                                                           \n",
    "        r_max = max(r_new)/2.0\n",
    "        \n",
    "        # pick an initial value for the change in COM position                                                      \n",
    "        # between the first guess above and the new one computed from half that volume\n",
    "        # it should be larger than the input tolerance (delta) initially\n",
    "        change = 1000.0\n",
    "\n",
    "        # start iterative process to determine center of mass position                                                 \n",
    "        # delta is the tolerance for the difference in the old COM and the new one.    \n",
    "        \n",
    "        while (change > delta):\n",
    "            # select all particles within the reduced radius (starting from original x,y,z, m)\n",
    "            index2 = np.where(r_max > r_new)\n",
    "            x2 = self.x[index2]\n",
    "            y2 = self.y[index2]\n",
    "            z2 = self.z[index2]\n",
    "            m2 = self.m[index2]\n",
    "\n",
    "            # Refined COM position:                                                                                    \n",
    "            # compute the center of mass position using                                                                \n",
    "            # the particles in the reduced radius\n",
    "            x_COM2, y_COM2, z_COM2 = self.COMdefine(x2, y2, z2, m2)\n",
    "            # compute the new 3D COM position\n",
    "            r_COM2 = np.sqrt(x_COM2**2 + y_COM2**2 + z_COM2**2 )\n",
    "\n",
    "            # determine the difference between the previous center of mass position                                    \n",
    "            # and the new one.                                                                                         \n",
    "            change = np.abs(r_COM - r_COM2)\n",
    "           \n",
    "            # Before loop continues, reset : r_max, particle separations and COM                                        \n",
    "\n",
    "            # reduce the volume by a factor of 2 again                                                                 \n",
    "            r_max /= 2.0\n",
    "            # check this.                                                                                              \n",
    "            #print (\"maxR\", r_max)                                                                                      \n",
    "\n",
    "            # Change the frame of reference to the newly computed COM.                                                 \n",
    "            # subtract the new COM\n",
    "            x_new = self.x - x_COM2\n",
    "            y_new = self.y - y_COM2\n",
    "            z_new = self.z - z_COM2\n",
    "            r_new = np.sqrt(x_new**2 + y_new**2 + z_new**2)\n",
    "\n",
    "            # set the center of mass positions to the refined values                                                   \n",
    "            x_COM = x_COM2\n",
    "            y_COM = y_COM2\n",
    "            z_COM = z_COM2\n",
    "            r_COM = r_COM2\n",
    "\n",
    "        # create an array (np.array) to store the COM position                                                                                                                                                       \n",
    "        p_COM = np.array([x_COM, y_COM, z_COM])\n",
    "\n",
    "       \n",
    "        # set the correct units using astropy and round all values\n",
    "        # and then return the COM positon vector\n",
    "        p_COM = np.round([x_COM, y_COM, z_COM], 2) \n",
    "        return p_COM*u.kpc\n",
    "\n",
    "        \n",
    "        \n",
    "    def COM_V(self, x_COM, y_COM, z_COM):\n",
    "        ''' Method to compute the center of mass velocity based on the center of mass\n",
    "        position.\n",
    "\n",
    "        PARAMETERS\n",
    "        ----------\n",
    "        x_COM : 'astropy quantity'\n",
    "            The x component of the center of mass in kpc\n",
    "        y_COM : 'astropy quantity'\n",
    "            The y component of the center of mass in kpc\n",
    "        z_COM : 'astropy quantity'\n",
    "            The z component of the center of mass in kpc\n",
    "            \n",
    "        RETURNS\n",
    "        -------\n",
    "        v_COM : `np.ndarray of astropy.Quantity'\n",
    "            3-D velocity of the center of mass in km/s\n",
    "        '''\n",
    "        \n",
    "        # the max distance from the center that we will use to determine \n",
    "        #the center of mass velocity                   \n",
    "        rv_max = 15.0*u.kpc\n",
    "\n",
    "        # determine the position of all particles relative to the center of mass position (x_COM, y_COM, z_COM)\n",
    "        xV = self.x *u.kpc - x_COM\n",
    "        yV = self.y *u.kpc - y_COM\n",
    "        zV = self.z *u.kpc - z_COM\n",
    "        rV = np.sqrt(xV**2 + yV**2 + zV**2)\n",
    "        \n",
    "        # determine the index for those particles within the max radius\n",
    "        indexV = np.where(rV < rv_max)\n",
    "        \n",
    "        # determine the velocity and mass of those particles within the mas radius\n",
    "        vx_new = self.vx[indexV]\n",
    "        vy_new = self.vy[indexV]\n",
    "        vz_new = self.vz[indexV]\n",
    "        m_new =  self.m[indexV]\n",
    "        \n",
    "        # compute the center of mass velocity using those particles\n",
    "        vx_COM, vy_COM, vz_COM = self.COMdefine(vx_new, vy_new, vz_new, m_new)\n",
    "        \n",
    "        # create an array to store the COM velocity round number into 2 decimal places\n",
    "        v_COM = np.round([vx_COM, vy_COM, vz_COM], 2)\n",
    "\n",
    "        # return the COM vector\n",
    "        # set the correct units usint astropy\n",
    "        return v_COM * u.km/u.s\n",
    "     \n",
    "    "
   ]
  },
  {
   "cell_type": "code",
   "execution_count": 10,
   "metadata": {
    "ExecuteTime": {
     "end_time": "2020-02-04T23:59:30.160978Z",
     "start_time": "2020-02-04T23:59:26.220455Z"
    },
    "tags": []
   },
   "outputs": [],
   "source": [
    "# Create a Center of mass object for the MW, M31 and M33\n",
    "MW_COM = CenterOfMass(\"MW_000.txt\", 2)\n",
    "M31_COM = CenterOfMass(\"M31_000.txt\", 2)\n",
    "M33_COM = CenterOfMass(\"M33_000.txt\", 2)"
   ]
  },
  {
   "cell_type": "markdown",
   "metadata": {},
   "source": [
    "## Questions"
   ]
  },
  {
   "cell_type": "markdown",
   "metadata": {},
   "source": [
    "#1 COM positions of MW, M31, M33"
   ]
  },
  {
   "cell_type": "code",
   "execution_count": 18,
   "metadata": {
    "ExecuteTime": {
     "end_time": "2020-02-04T23:59:30.820428Z",
     "start_time": "2020-02-04T23:59:30.761163Z"
    },
    "tags": []
   },
   "outputs": [
    {
     "name": "stdout",
     "output_type": "stream",
     "text": [
      "COM position and velocity vector of MW\n",
      "[-2.05  2.96 -2.05] kpc\n",
      "[ 1.42  7.59 -1.34] km / s\n"
     ]
    }
   ],
   "source": [
    "# MW:   store the position and velocity COM\n",
    "\n",
    "print(\"COM position and velocity vector of MW\")\n",
    "MW_COM_p = MW_COM.COM_P(0.1)\n",
    "print(MW_COM_p)\n",
    "MW_COM_v = MW_COM.COM_V(MW_COM_p[0], MW_COM_p[1], MW_COM_p[2])\n",
    "print(MW_COM_v)"
   ]
  },
  {
   "cell_type": "code",
   "execution_count": 19,
   "metadata": {},
   "outputs": [
    {
     "name": "stdout",
     "output_type": "stream",
     "text": [
      "COM position and velocity vector of M31\n",
      "[-377.67  611.44 -377.67] kpc\n",
      "[ 73.37 -72.54  49.31] km / s\n"
     ]
    }
   ],
   "source": [
    "print(\"COM position and velocity vector of M31\")\n",
    "M31_COM_p = M31_COM.COM_P(0.1)\n",
    "print(M31_COM_p)\n",
    "M31_COM_v = M31_COM.COM_V(M31_COM_p[0], M31_COM_p[1], M31_COM_p[2])\n",
    "print(M31_COM_v)"
   ]
  },
  {
   "cell_type": "code",
   "execution_count": 24,
   "metadata": {},
   "outputs": [
    {
     "name": "stdout",
     "output_type": "stream",
     "text": [
      "COM position and velocity vector of M33\n",
      "[-476.26  491.46 -476.26] kpc\n",
      "[ 44.43 101.84 142.37] km / s\n"
     ]
    }
   ],
   "source": [
    "print(\"COM position and velocity vector of M33\")\n",
    "M33_COM_p = M33_COM.COM_P(0.1)\n",
    "print(M33_COM_p)\n",
    "M33_COM_v = M33_COM.COM_V(M33_COM_p[0], M33_COM_p[1], M33_COM_p[2])\n",
    "print(M33_COM_v)"
   ]
  },
  {
   "cell_type": "markdown",
   "metadata": {},
   "source": [
    "#2 Separation and relative velocity of M31 and MW"
   ]
  },
  {
   "cell_type": "code",
   "execution_count": 28,
   "metadata": {},
   "outputs": [
    {
     "name": "stdout",
     "output_type": "stream",
     "text": [
      "807.731 kpc\n",
      "119.009 km / s\n"
     ]
    }
   ],
   "source": [
    "# magnitude of current separation and velocity of MW and M31\n",
    "# sepatation vector (x_M31 - x_MW, Y_M31-Y_MW, Z_M31-Z_MW)\n",
    "# magnitude of separation = sqrt(x^2 + y^2 + z^2 )\n",
    "\n",
    "\n",
    "separaion_M31_MW = M31_COM_p - MW_COM_p \n",
    "mag_separation_M31_MW = np.sqrt(separaion_M31_MW[0]**2 +separaion_M31_MW[1]**2 + separaion_M31_MW[2]**2 )\n",
    "print(np.round(mag_separation_M31_MW, 3))\n",
    "\n",
    "rel_vel_M31_MW = M31_COM_v - MW_COM_v \n",
    "mag_rel_vel_M31_MW = np.sqrt(rel_vel_M31_MW[0]**2 +rel_vel_M31_MW[1]**2 + rel_vel_M31_MW[2]**2 )\n",
    "print(np.round(mag_rel_vel_M31_MW,3))"
   ]
  },
  {
   "cell_type": "markdown",
   "metadata": {},
   "source": [
    "In lecture we learned the separation of MW and M31 is - 770kpc, relative velocity is 110km/s. My result is fairly close to this number. "
   ]
  },
  {
   "cell_type": "markdown",
   "metadata": {},
   "source": [
    "#3 Separation and relative velocity of M31 and M33"
   ]
  },
  {
   "cell_type": "code",
   "execution_count": 31,
   "metadata": {},
   "outputs": [
    {
     "name": "stdout",
     "output_type": "stream",
     "text": [
      "183.943 kpc\n",
      "183.879 km / s\n"
     ]
    }
   ],
   "source": [
    "# magnitude of current separation and velocity of M33 and M31 \n",
    "\n",
    "separaion_M31_M33 = M31_COM_p - M33_COM_p \n",
    "mag_separation_M31_M33 = np.sqrt(separaion_M31_M33[0]**2 +separaion_M31_M33[1]**2 + separaion_M31_M33[2]**2 )\n",
    "print(np.round(mag_separation_M31_M33,3))\n",
    "\n",
    "rel_vel_M31_M33 = M31_COM_v - M33_COM_v \n",
    "mag_rel_vel_M31_M33 = np.sqrt(rel_vel_M31_M33[0]**2 +rel_vel_M31_M33[1]**2 + rel_vel_M31_MW[2]**2 )\n",
    "print(np.round(mag_rel_vel_M31_M33,3))"
   ]
  },
  {
   "cell_type": "markdown",
   "metadata": {},
   "source": [
    "#4 Given that M31 and the MW are about to merge, why is the iterative process to determine the COM is important?"
   ]
  },
  {
   "cell_type": "markdown",
   "metadata": {},
   "source": [
    "This iterative process helpes to find the change of COM due to collision/merge of two galaxy. "
   ]
  },
  {
   "cell_type": "code",
   "execution_count": null,
   "metadata": {},
   "outputs": [],
   "source": []
  }
 ],
 "metadata": {
  "kernelspec": {
   "display_name": "Python 3 (ipykernel)",
   "language": "python",
   "name": "python3"
  },
  "language_info": {
   "codemirror_mode": {
    "name": "ipython",
    "version": 3
   },
   "file_extension": ".py",
   "mimetype": "text/x-python",
   "name": "python",
   "nbconvert_exporter": "python",
   "pygments_lexer": "ipython3",
   "version": "3.10.9"
  },
  "varInspector": {
   "cols": {
    "lenName": 16,
    "lenType": 16,
    "lenVar": 40
   },
   "kernels_config": {
    "python": {
     "delete_cmd_postfix": "",
     "delete_cmd_prefix": "del ",
     "library": "var_list.py",
     "varRefreshCmd": "print(var_dic_list())"
    },
    "r": {
     "delete_cmd_postfix": ") ",
     "delete_cmd_prefix": "rm(",
     "library": "var_list.r",
     "varRefreshCmd": "cat(var_dic_list()) "
    }
   },
   "types_to_exclude": [
    "module",
    "function",
    "builtin_function_or_method",
    "instance",
    "_Feature"
   ],
   "window_display": false
  }
 },
 "nbformat": 4,
 "nbformat_minor": 4
}
