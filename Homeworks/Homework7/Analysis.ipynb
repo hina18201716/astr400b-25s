{
 "cells": [
  {
   "cell_type": "code",
   "execution_count": 8,
   "id": "2cb9de85-33b9-4c35-9283-63d496c2f540",
   "metadata": {},
   "outputs": [],
   "source": [
    "from Trajectory import M33AnalyticOrbit\n",
    "import matplotlib.pyplot as plt\n",
    "import matplotlib\n",
    "from ReadFile import Read\n",
    "import numpy as np\n",
    "from OrbitCOM import OrbitCOM \n",
    "import astropy.units as u"
   ]
  },
  {
   "cell_type": "code",
   "execution_count": 9,
   "id": "c4cd871a-785c-4025-9cb7-482be096d388",
   "metadata": {},
   "outputs": [],
   "source": [
    "M31M33 = M33AnalyticOrbit('M33')"
   ]
  },
  {
   "cell_type": "code",
   "execution_count": 10,
   "id": "6309aa0f-578f-452d-9cd7-157668cdacc9",
   "metadata": {},
   "outputs": [
    {
     "name": "stdout",
     "output_type": "stream",
     "text": [
      "Step:  1\n",
      "Step:  2\n",
      "Step:  3\n",
      "Step:  4\n",
      "Step:  5\n",
      "Step:  6\n",
      "Step:  7\n",
      "Step:  8\n",
      "Step:  9\n",
      "Step:  10\n",
      "Step:  11\n",
      "Step:  12\n",
      "Step:  13\n",
      "Step:  14\n",
      "Step:  15\n",
      "Step:  16\n",
      "Step:  17\n",
      "Step:  18\n",
      "Step:  19\n",
      "Step:  20\n",
      "Step:  21\n",
      "Step:  22\n",
      "Step:  23\n",
      "Step:  24\n",
      "Step:  25\n",
      "Step:  26\n",
      "Step:  27\n",
      "Step:  28\n",
      "Step:  29\n",
      "Step:  30\n",
      "Step:  31\n",
      "Step:  32\n",
      "Step:  33\n",
      "Step:  34\n",
      "Step:  35\n",
      "Step:  36\n",
      "Step:  37\n",
      "Step:  38\n",
      "Step:  39\n",
      "Step:  40\n",
      "Step:  41\n",
      "Step:  42\n",
      "Step:  43\n",
      "Step:  44\n",
      "Step:  45\n",
      "Step:  46\n",
      "Step:  47\n",
      "Step:  48\n",
      "Step:  49\n",
      "Step:  50\n",
      "Step:  51\n",
      "Step:  52\n",
      "Step:  53\n",
      "Step:  54\n",
      "Step:  55\n",
      "Step:  56\n",
      "Step:  57\n",
      "Step:  58\n",
      "Step:  59\n",
      "Step:  60\n",
      "Step:  61\n",
      "Step:  62\n",
      "Step:  63\n",
      "Step:  64\n",
      "Step:  65\n",
      "Step:  66\n",
      "Step:  67\n",
      "Step:  68\n",
      "Step:  69\n",
      "Step:  70\n",
      "Step:  71\n",
      "Step:  72\n",
      "Step:  73\n",
      "Step:  74\n",
      "Step:  75\n",
      "Step:  76\n",
      "Step:  77\n",
      "Step:  78\n",
      "Step:  79\n",
      "Step:  80\n",
      "Step:  81\n",
      "Step:  82\n",
      "Step:  83\n",
      "Step:  84\n",
      "Step:  85\n",
      "Step:  86\n",
      "Step:  87\n",
      "Step:  88\n",
      "Step:  89\n",
      "Step:  90\n",
      "Step:  91\n",
      "Step:  92\n",
      "Step:  93\n",
      "Step:  94\n",
      "Step:  95\n",
      "Step:  96\n",
      "Step:  97\n",
      "Step:  98\n",
      "Step:  99\n",
      "Step:  100\n",
      "Step:  101\n"
     ]
    }
   ],
   "source": [
    "orbit = M31M33.OrbitIntegration(0, 0.1, 10)"
   ]
  },
  {
   "cell_type": "code",
   "execution_count": 11,
   "id": "c993884a-ccdb-48d1-8add-ede856a8ee13",
   "metadata": {},
   "outputs": [],
   "source": [
    "MW_orbit = np.genfromtxt(\"Orbit_MW.txt\",dtype=None,names=True)\n",
    "M31_orbit = np.genfromtxt(\"Orbit_M31.txt\",dtype=None,names=True)\n",
    "M33_orbit = np.genfromtxt(\"Orbit_M33.txt\",dtype=None,names=True)\n",
    "M33 = np.genfromtxt(\"output.txt\", dtype=None, names=True)"
   ]
  },
  {
   "cell_type": "code",
   "execution_count": 12,
   "id": "ddc8ebd0-2da4-4495-acd3-eff2c2423e70",
   "metadata": {},
   "outputs": [],
   "source": [
    "def relMagnitude(a,b): \n",
    "    \"\"\"Function to orbitpute the magnitude of the difference between two vectors. \n",
    "    Input: \n",
    "        a: 'np.array'\n",
    "            vector 1\n",
    "        b: 'np.array'\n",
    "            vector 2\n",
    "    Output: \n",
    "        magnitude of the difference between two vectors\n",
    "    \"\"\"\n",
    "    \n",
    "    if a.size == b.size : \n",
    "        rel = a - b\n",
    "        mag = np.sqrt( rel[0]**2 + rel[1]**2 + rel[2]**2 )\n",
    "    else: \n",
    "        raise TypeError(\"Two vector have different dimesions\")\n",
    "    \n",
    "    return mag"
   ]
  },
  {
   "cell_type": "code",
   "execution_count": 13,
   "id": "de6b4c85-4c5f-4c75-a4fb-a99d974f4b5b",
   "metadata": {},
   "outputs": [
    {
     "ename": "AttributeError",
     "evalue": "module 'astropy.units' has no attribute 'to'.",
     "output_type": "error",
     "traceback": [
      "\u001b[0;31m---------------------------------------------------------------------------\u001b[0m",
      "\u001b[0;31mAttributeError\u001b[0m                            Traceback (most recent call last)",
      "Cell \u001b[0;32mIn[13], line 24\u001b[0m\n\u001b[1;32m     21\u001b[0m M33_tra_vel \u001b[38;5;241m=\u001b[39m np\u001b[38;5;241m.\u001b[39msqrt( M33[\u001b[38;5;124m'\u001b[39m\u001b[38;5;124mvx\u001b[39m\u001b[38;5;124m'\u001b[39m]\u001b[38;5;241m*\u001b[39m\u001b[38;5;241m*\u001b[39m\u001b[38;5;241m2\u001b[39m \u001b[38;5;241m+\u001b[39m M33[\u001b[38;5;124m'\u001b[39m\u001b[38;5;124mvy\u001b[39m\u001b[38;5;124m'\u001b[39m]\u001b[38;5;241m*\u001b[39m\u001b[38;5;241m*\u001b[39m\u001b[38;5;241m2\u001b[39m \u001b[38;5;241m+\u001b[39m M33[\u001b[38;5;124m'\u001b[39m\u001b[38;5;124mvz\u001b[39m\u001b[38;5;124m'\u001b[39m]\u001b[38;5;241m*\u001b[39m\u001b[38;5;241m*\u001b[39m\u001b[38;5;241m2\u001b[39m )\n\u001b[1;32m     23\u001b[0m M33_tra_vel \u001b[38;5;241m=\u001b[39m M33_tra_vel\u001b[38;5;241m*\u001b[39mu\u001b[38;5;241m.\u001b[39mkpc\u001b[38;5;241m/\u001b[39mu\u001b[38;5;241m.\u001b[39ms\n\u001b[0;32m---> 24\u001b[0m M33_tra_vel \u001b[38;5;241m=\u001b[39m M33_tra_vel\u001b[38;5;241m*\u001b[39m\u001b[43mu\u001b[49m\u001b[38;5;241;43m.\u001b[39;49m\u001b[43mto\u001b[49m(u\u001b[38;5;241m.\u001b[39mkm\u001b[38;5;241m/\u001b[39mu\u001b[38;5;241m.\u001b[39ms)\n",
      "File \u001b[0;32m~/anaconda3/lib/python3.10/site-packages/astropy/units/__init__.py:61\u001b[0m, in \u001b[0;36m__getattr__\u001b[0;34m(attr)\u001b[0m\n\u001b[1;32m     58\u001b[0m     \u001b[38;5;28;01mfrom\u001b[39;00m \u001b[38;5;21;01mastropy\u001b[39;00m\u001b[38;5;21;01m.\u001b[39;00m\u001b[38;5;21;01munits\u001b[39;00m\u001b[38;5;21;01m.\u001b[39;00m\u001b[38;5;21;01mequivalencies\u001b[39;00m \u001b[38;5;28;01mimport\u001b[39;00m with_H0\n\u001b[1;32m     59\u001b[0m     \u001b[38;5;28;01mreturn\u001b[39;00m with_H0\n\u001b[0;32m---> 61\u001b[0m \u001b[38;5;28;01mraise\u001b[39;00m \u001b[38;5;167;01mAttributeError\u001b[39;00m(\u001b[38;5;124mf\u001b[39m\u001b[38;5;124m\"\u001b[39m\u001b[38;5;124mmodule \u001b[39m\u001b[38;5;132;01m{\u001b[39;00m\u001b[38;5;18m__name__\u001b[39m\u001b[38;5;132;01m!r}\u001b[39;00m\u001b[38;5;124m has no attribute \u001b[39m\u001b[38;5;132;01m{\u001b[39;00mattr\u001b[38;5;132;01m!r}\u001b[39;00m\u001b[38;5;124m.\u001b[39m\u001b[38;5;124m\"\u001b[39m)\n",
      "\u001b[0;31mAttributeError\u001b[0m: module 'astropy.units' has no attribute 'to'."
     ]
    }
   ],
   "source": [
    "\n",
    "#   store position vectors of all galaxies\n",
    "MW_pos_vec = np.array([MW_orbit['x'], MW_orbit['y'], MW_orbit['z']])\n",
    "M31_pos_vec = np.array([M31_orbit['x'], M31_orbit['y'], M31_orbit['z']])\n",
    "M33_pos_vec = np.array([M33_orbit['x'], M33_orbit['y'], M33_orbit['z']])\n",
    "\n",
    "#   store velocity vectors of all galaxies\n",
    "MW_vel_vec = np.array([MW_orbit['vx'], MW_orbit['vy'], MW_orbit['vz']])\n",
    "M31_vel_vec = np.array([M31_orbit['vx'], M31_orbit['vy'], M31_orbit['vz']])\n",
    "M33_vel_vec = np.array([M33_orbit['vx'], M33_orbit['vy'], MW_orbit['vz']])\n",
    "\n",
    "# of MW and M31\n",
    "MW_M31_relpos = relMagnitude( MW_pos_vec, M31_pos_vec)  \n",
    "MW_M31_relvel = relMagnitude( MW_vel_vec, M31_vel_vec) \n",
    "    \n",
    "# of M33 and M31\n",
    "M33_M31_relpos = relMagnitude( M33_pos_vec, M31_pos_vec)   \n",
    "M33_M31_relvel = relMagnitude( M33_vel_vec, M31_vel_vec)  \n",
    "\n",
    "\n",
    "M33_tra_pos = np.sqrt( M33['x']**2 + M33['y']**2 + M33['z']**2 )\n",
    "M33_tra_vel = np.sqrt( M33['vx']**2 + M33['vy']**2 + M33['vz']**2 )\n",
    "\n",
    "M33_tra_vel = M33_tra_vel*u.kpc/u.s\n",
    "M33_tra_vel = M33_tra_vel*u.to(u.km/u.s)"
   ]
  },
  {
   "cell_type": "code",
   "execution_count": null,
   "id": "9bf56edd-1156-490b-beb3-9978e8d4586b",
   "metadata": {},
   "outputs": [],
   "source": [
    "# set up plots\n",
    "fig, axes = plt.subplots(2, 1, figsize=(5, 8), sharex=True)\n",
    "\n",
    "# set fontsize \n",
    "plt.rcParams['font.size'] = 15\n",
    "\n",
    "ax = axes[0]\n",
    "# Plot the separtion of M31 and MW\n",
    "ax.plot(M31_orbit['t'], M33_M31_relpos, c='r', lw=2, ls=\"-.\", label='M33 and M31')\n",
    "ax.plot(M33['t'], M33_tra_pos, lw=3, label='M33')\n",
    "\n",
    "ax.set(ylabel='orbit Separation [kpc]')\n",
    "ax.set_title(\"Orbits of the Local Group\", fontsize=15)\n",
    "\n",
    "ax = axes[1]\n",
    "ax.plot(M31_orbit['t'], M33_M31_relvel, c='r', lw=2, ls=\"-.\", label='M33 and M31')\n",
    "ax.plot(M33['t'], M33_tra_vel, lw=3, label='M33')\n",
    "\n",
    "ax.set(ylabel='Relative orbit Velocity [km/s]', xlabel='Time [Gyr]')\n",
    "\n",
    "plt.tight_layout()\n",
    "ax.legend(loc='upper right', fontsize=15)\n",
    "plt.savefig('Homework6_orbits.png', bbox_inches='tight')"
   ]
  },
  {
   "cell_type": "markdown",
   "id": "27e90556-0156-4900-87e8-f1e43151fb6e",
   "metadata": {},
   "source": [
    "2. At the beggining of prediction, it follows simulation. As it runs longer, the worse prediction is. "
   ]
  },
  {
   "cell_type": "markdown",
   "id": "85122709-11f7-4435-8a7a-4bf4ccadf664",
   "metadata": {},
   "source": [
    "3. The missing physics here is that change of COM in the system as galaxies comes closer. As we are calculating relative position and velocity based on COM at the present day, it causes difference in simulated data and our prediction. "
   ]
  },
  {
   "cell_type": "markdown",
   "id": "437761a8-3ad8-4c64-b5f7-33c0a2775229",
   "metadata": {},
   "source": [
    "4. We ignored MW effects on this system. To include MW effects on this prediction, I would recalculate center of mass and equation of motion by adding all particles in MW. Ideally update this at each integration step. "
   ]
  },
  {
   "cell_type": "code",
   "execution_count": null,
   "id": "8af5bddc-7cee-4e93-8005-e5412d544c8a",
   "metadata": {},
   "outputs": [],
   "source": []
  }
 ],
 "metadata": {
  "kernelspec": {
   "display_name": "Python 3 (ipykernel)",
   "language": "python",
   "name": "python3"
  },
  "language_info": {
   "codemirror_mode": {
    "name": "ipython",
    "version": 3
   },
   "file_extension": ".py",
   "mimetype": "text/x-python",
   "name": "python",
   "nbconvert_exporter": "python",
   "pygments_lexer": "ipython3",
   "version": "3.10.9"
  }
 },
 "nbformat": 4,
 "nbformat_minor": 5
}
