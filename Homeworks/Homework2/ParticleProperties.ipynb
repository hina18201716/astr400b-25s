{
 "cells": [
  {
   "cell_type": "code",
   "execution_count": 2,
   "id": "261cfb3b-de2b-4054-989a-00e6fe33e3c1",
   "metadata": {},
   "outputs": [],
   "source": [
    "# Import All  Modules \n",
    "import numpy as np # import numpy\n",
    "import astropy.units as u # import astropy units\n",
    "from astropy import constants as const # import astropy constants\n",
    "\n",
    "# import ReadFile1\n",
    "from ReadFile import Read"
   ]
  },
  {
   "cell_type": "code",
   "execution_count": 3,
   "id": "b9da944d-1bce-441a-a23b-3ed951c5ccdd",
   "metadata": {},
   "outputs": [],
   "source": [
    "def ParticleInfo(filename, types, Pn):\n",
    "    \"\"\"\n",
    "        This function will gives particle information read from the file. \n",
    "        \n",
    "        Input : filename \n",
    "                particle types (int)\n",
    "                particle number (int) # index in the same type. \n",
    "        Output : Magnitude of the disntance (kps)\n",
    "                 Magnitude of the velocity (km/s)\n",
    "                 Mass of the particle (M_sun)\n",
    "    \"\"\"\n",
    "    \n",
    "    time, n, data = Read(filename)\n",
    "    # Extract all particles with specified type\n",
    "    index = np.where(data['type'] == types )\n",
    "    p1s = data[index]\n",
    "    \n",
    "    # Get postion of the particle # Pn\n",
    "    x = p1s[Pn]['x'] *u.kpc\n",
    "    y = p1s[Pn]['y'] *u.kpc\n",
    "    z = p1s[Pn]['z'] *u.kpc\n",
    "    # Get velocity of the particle # Pn\n",
    "    vx = p1s[Pn]['vx'] *u.km / u.s \n",
    "    vy = p1s[Pn]['vy'] *u.km / u.s \n",
    "    vz = p1s[Pn]['vz'] *u.km / u.s \n",
    "    \n",
    "    # Calculate magnitudes, round into 3 decimal\n",
    "    magx = np.sqrt( x*x + y*y + z*z ) \n",
    "    magx = np.around(magx, 3)\n",
    "    magv = np.sqrt( vx*vx + vy*vy + vz*vz ) \n",
    "    magv = np.around(magv, 3)\n",
    "    \n",
    "    # Get mass of the particle\n",
    "    mass = p1s[Pn]['m'] * 1e10 * u.M_sun # mass in 1e10\n",
    "    \n",
    "    return magx, magv, mass\n",
    "\n"
   ]
  },
  {
   "cell_type": "code",
   "execution_count": 11,
   "id": "e6f2a242-e091-4c18-8fb5-ab92a4279ed4",
   "metadata": {},
   "outputs": [],
   "source": [
    "x, v, m = ParticleInfo('MW_000.txt', types=2, Pn=99)"
   ]
  },
  {
   "cell_type": "code",
   "execution_count": 12,
   "id": "351ab72f-2ff3-4c3f-83c3-e14286d5eba5",
   "metadata": {},
   "outputs": [
    {
     "data": {
      "text/latex": [
       "$4.245 \\; \\mathrm{kpc}$"
      ],
      "text/plain": [
       "<Quantity 4.245 kpc>"
      ]
     },
     "execution_count": 12,
     "metadata": {},
     "output_type": "execute_result"
    }
   ],
   "source": [
    "# 3D distance of the 100th disk particle\n",
    "x"
   ]
  },
  {
   "cell_type": "code",
   "execution_count": 13,
   "id": "e2d67d98-4397-454b-b8d9-422ed52246ae",
   "metadata": {},
   "outputs": [
    {
     "data": {
      "text/latex": [
       "$312.135 \\; \\mathrm{\\frac{km}{s}}$"
      ],
      "text/plain": [
       "<Quantity 312.135 km / s>"
      ]
     },
     "execution_count": 13,
     "metadata": {},
     "output_type": "execute_result"
    }
   ],
   "source": [
    "# 3D velocity of the 100th disk particle\n",
    "v"
   ]
  },
  {
   "cell_type": "code",
   "execution_count": 14,
   "id": "0d44cae6-cb5f-4d78-bf77-824e7cfec0a2",
   "metadata": {},
   "outputs": [
    {
     "data": {
      "text/latex": [
       "$1000000 \\; \\mathrm{M_{\\odot}}$"
      ],
      "text/plain": [
       "<Quantity 1000000. solMass>"
      ]
     },
     "execution_count": 14,
     "metadata": {},
     "output_type": "execute_result"
    }
   ],
   "source": [
    "# Mass of the 100th disk particle\n",
    "m"
   ]
  },
  {
   "cell_type": "code",
   "execution_count": 15,
   "id": "e83a1008-6f50-4c57-9188-42ce65b70a2f",
   "metadata": {},
   "outputs": [
    {
     "name": "stdout",
     "output_type": "stream",
     "text": [
      "13845.338 lyr\n"
     ]
    }
   ],
   "source": [
    "# 3D distance in light years\n",
    "distLyr = np.round( x.to(u.lyr), 3)\n",
    "print(distLyr)"
   ]
  },
  {
   "cell_type": "code",
   "execution_count": null,
   "id": "f2bd68c7-2bb5-4354-953e-a0e9a4022eeb",
   "metadata": {},
   "outputs": [],
   "source": []
  }
 ],
 "metadata": {
  "kernelspec": {
   "display_name": "Python 3 (ipykernel)",
   "language": "python",
   "name": "python3"
  },
  "language_info": {
   "codemirror_mode": {
    "name": "ipython",
    "version": 3
   },
   "file_extension": ".py",
   "mimetype": "text/x-python",
   "name": "python",
   "nbconvert_exporter": "python",
   "pygments_lexer": "ipython3",
   "version": "3.10.9"
  }
 },
 "nbformat": 4,
 "nbformat_minor": 5
}
