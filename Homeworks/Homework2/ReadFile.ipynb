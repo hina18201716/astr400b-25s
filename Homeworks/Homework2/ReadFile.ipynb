{
 "cells": [
  {
   "cell_type": "code",
   "execution_count": 9,
   "id": "82644f14-e2a0-440c-a6ce-3492e46a2e55",
   "metadata": {},
   "outputs": [],
   "source": [
    "# Import All  Modules \n",
    "import numpy as np # import numpy\n",
    "import astropy.units as u # import astropy units\n",
    "from astropy import constants as const # import astropy constants"
   ]
  },
  {
   "cell_type": "code",
   "execution_count": 10,
   "id": "a71d0681-96f1-4ad2-a7be-0d86aa9284ab",
   "metadata": {},
   "outputs": [],
   "source": [
    "# Function to read file \n",
    "def Read(filename): \n",
    "    \"\"\" This function read a file formatted as \n",
    "            Time (Myr)\n",
    "            # of Particle\n",
    "            units\n",
    "            Header names\n",
    "            - type Mass(10e M_sun) Position(kpc) Velocity(km/s)\n",
    "            Coordinate is layed s.t. origin in at the Galactic Center. \n",
    "        Input: filename\n",
    "        Output: Time(Myr)\n",
    "    \"\"\"\n",
    "    # open file \n",
    "    file = open(filename, 'r')\n",
    "\n",
    "    line1 = file.readline() # read a line from the file\n",
    "    label, value = line1.split() # convert from one string to two \n",
    "    time = float(value) * u.Myr # convert unit\n",
    "    line2 = file.readline() # read a line from the file\n",
    "    label2, n = line2.split() # convert from one string to two\n",
    "    \n",
    "    data = np.genfromtxt(filename,dtype=None,names=True,skip_header=3)\n",
    "    \n",
    "    # close file\n",
    "    file.close()\n",
    "    \n",
    "    return time, n, data"
   ]
  }
 ],
 "metadata": {
  "kernelspec": {
   "display_name": "Python 3 (ipykernel)",
   "language": "python",
   "name": "python3"
  },
  "language_info": {
   "codemirror_mode": {
    "name": "ipython",
    "version": 3
   },
   "file_extension": ".py",
   "mimetype": "text/x-python",
   "name": "python",
   "nbconvert_exporter": "python",
   "pygments_lexer": "ipython3",
   "version": "3.10.9"
  }
 },
 "nbformat": 4,
 "nbformat_minor": 5
}
